{
 "cells": [
  {
   "cell_type": "code",
   "execution_count": null,
   "metadata": {
    "executionInfo": {
     "elapsed": 15439,
     "status": "ok",
     "timestamp": 1741511192189,
     "user": {
      "displayName": "Giulio Leonardi",
      "userId": "03016945513466616914"
     },
     "user_tz": -60
    },
    "id": "ezKrrVwkHkqj"
   },
   "outputs": [],
   "source": [
    "from unet import *\n",
    "from cust_dataset import *\n",
    "from utils import *\n",
    "import torch\n",
    "import torchvision\n",
    "import matplotlib.pyplot as plt\n",
    "from torch.utils.data import random_split\n",
    "import lightning as L\n",
    "from dataset import SegmentationImageDataset\n",
    "from pytorch_lightning.loggers import CSVLogger\n",
    "from torch.utils.data import DataLoader"
   ]
  },
  {
   "cell_type": "code",
   "execution_count": 3,
   "metadata": {
    "colab": {
     "base_uri": "https://localhost:8080/"
    },
    "executionInfo": {
     "elapsed": 27928,
     "status": "ok",
     "timestamp": 1741511095659,
     "user": {
      "displayName": "Giulio Leonardi",
      "userId": "03016945513466616914"
     },
     "user_tz": -60
    },
    "id": "1MjSeq90I_DO",
    "outputId": "8bbeaa1f-7c49-4700-97a2-a2ce2186887e"
   },
   "outputs": [
    {
     "name": "stdout",
     "output_type": "stream",
     "text": [
      "Mounted at /content/drive\n"
     ]
    }
   ],
   "source": [
    "from google.colab import drive\n",
    "drive.mount('/content/drive')"
   ]
  },
  {
   "cell_type": "code",
   "execution_count": 8,
   "metadata": {
    "executionInfo": {
     "elapsed": 23,
     "status": "ok",
     "timestamp": 1741511208577,
     "user": {
      "displayName": "Giulio Leonardi",
      "userId": "03016945513466616914"
     },
     "user_tz": -60
    },
    "id": "swNKC5llHkqn"
   },
   "outputs": [],
   "source": [
    "data = SegmentationImageDataset('/content/drive/MyDrive/unet_segmentation_project/data/images', '/content/drive/MyDrive/unet_segmentation_project/data/masks', transform_img, transform_label)"
   ]
  },
  {
   "cell_type": "code",
   "execution_count": 9,
   "metadata": {
    "colab": {
     "base_uri": "https://localhost:8080/"
    },
    "executionInfo": {
     "elapsed": 2052,
     "status": "ok",
     "timestamp": 1741511212526,
     "user": {
      "displayName": "Giulio Leonardi",
      "userId": "03016945513466616914"
     },
     "user_tz": -60
    },
    "id": "40rOBfDwHkqn",
    "outputId": "3bb42ac0-11f4-4c56-8a26-b4287c5c575e"
   },
   "outputs": [
    {
     "data": {
      "text/plain": [
       "(torch.Size([3, 400, 400]), torch.Size([1, 400, 400]))"
      ]
     },
     "execution_count": 9,
     "metadata": {},
     "output_type": "execute_result"
    }
   ],
   "source": [
    "data[0][0].shape, data[0][1].shape"
   ]
  },
  {
   "cell_type": "code",
   "execution_count": 10,
   "metadata": {
    "executionInfo": {
     "elapsed": 82,
     "status": "ok",
     "timestamp": 1741511220486,
     "user": {
      "displayName": "Giulio Leonardi",
      "userId": "03016945513466616914"
     },
     "user_tz": -60
    },
    "id": "7OAliz66Hkqo"
   },
   "outputs": [],
   "source": [
    "train, val, test = random_split(data, [0.5, 0.2, 0.3])"
   ]
  },
  {
   "cell_type": "code",
   "execution_count": null,
   "metadata": {
    "executionInfo": {
     "elapsed": 7,
     "status": "ok",
     "timestamp": 1741511259795,
     "user": {
      "displayName": "Giulio Leonardi",
      "userId": "03016945513466616914"
     },
     "user_tz": -60
    },
    "id": "6cR-ubNKHkqo"
   },
   "outputs": [],
   "source": [
    "train_dataloader = DataLoader(train, batch_size=8, shuffle=True, num_workers=2, persistent_workers=True)\n",
    "val_dataloader = DataLoader(val, batch_size=1, shuffle=False)\n",
    "test_dataloader = DataLoader(test, batch_size=1, shuffle=False)"
   ]
  },
  {
   "cell_type": "code",
   "execution_count": 44,
   "metadata": {
    "colab": {
     "base_uri": "https://localhost:8080/",
     "height": 535,
     "referenced_widgets": [
      "d2cd8e0727174ae4872948dbfc4b10b7",
      "40c046e2da5e456385f25d0145afaac1",
      "5f38008773314d1e9407f2588d05af6e",
      "cabac02280304be6becdf0defd186943",
      "e21d14b72d044148a21dd3f752a3736a",
      "534fc6bb4b9d4b58a4ad888d5fa502a5",
      "3aace9c9aaa0446eb52bfd8c888e50ad",
      "c346b63012cc48c28878f93248c39bed",
      "e5e3b97e5bb84545acabb90119a90684",
      "b6838a350c7d42189742aab2eb4eaf7b",
      "56199e49de684e9b8c9e53b2054ff0e5",
      "4f5df48b69504012b6f9c819adfc9141",
      "989c22a4251246b68f29138edfa072b4",
      "f35ea09bd52a45c6b7eaeed0c4411ecb",
      "09167d8ee0294f5ab6db0414ceb82b29",
      "fc85c24db2fb4efbacc17eff294de97f",
      "b7aacc5d217f41aeb47123c634eef8af",
      "f79ba4f07dd74495852f00b2e48dc80f",
      "1fe1d33659074081b05f749221b5378c",
      "78de68aa794949059124ceafac4cf2ea",
      "ec35b2b052554e61a223c9e032b81639",
      "e6bc93ee087642cb93d82dcd7baf32a9",
      "eb6fb1f312614a66bd0ed2b1dee4db05",
      "b615048f37bf400482dfb4a665b3639d",
      "e42dfda0c86345b4998fcad032addb1e",
      "6f380008809a470ca7bb0daaf51e708d",
      "6c8787f3bb55474cb3e7eef5a6ea63af",
      "d70fec901e354132b72cdbfbe453f2a8",
      "ce5b61d1fa5a4122945d2abf84800daa",
      "014260e633084eedaae5e1ab0c13b252",
      "09c0990cc45442439259b902ddc9ca75",
      "29b7e994c98f49539f0a8932e4bd693e",
      "0508a1970d2f43d3b85f0c6d88ab6c63",
      "a8bc099b9efc41f4a0883725456d737b",
      "47025ec5f5e643ad84b1863cf9a07dd0",
      "1c01d1d8854047d99ecd772b3400f87d",
      "3d73378e6c2c48f3b227587e1c1c8caf",
      "eab455119637443bb6eb0c14a1e66d6f",
      "460b7f3c9c4f4668aa8f3fdf1631d1be",
      "188b964a41384bbba1914d1ed93dc0bb",
      "b1022085c8884924989eb48f39aab1f6",
      "84b14c1941184104975fb78ce2c9c5e3",
      "5b4491cb402849beb07f283ba5c49200",
      "b2b7c7391ddc4054937e11cb9e9a1ec9",
      "97de48be4fbb4817b3ffea220456a284",
      "2bd716b7c35542be915a3305f272e93d",
      "aba93b22724341458ab6c8068ec56fe3",
      "e6d34680f3e54324af2d10b839c0f957",
      "49eeb004a6924bfaac93487b9287780d",
      "d26870c1b7924740b97c5b267b7a713c",
      "d860533a291a4214923f0a067f805953",
      "f8aebee730da483f87e24e9f1f59ffcd",
      "f994189905c846888071c90dc55658bd",
      "3bbb0b4f55904570af22542616807e60",
      "efc4bcb0eab8468ea6e70bbc270c6d8b",
      "382b781663c64670b59344a752c5a055",
      "af75993109234d1f9e36a98d08fd4cd4",
      "69804e37bbed4031b2bfd1e3bfb0fda1",
      "70000b4899e64d4890cd811fe19ac14e",
      "adb33f84959742059884b88118357c00",
      "be30e35e71c04aeb92df14fd61f2f166",
      "6f9d13f313114ddc83bf96ccd077ec10",
      "9c04fd915a8348ffbde7b65bd5fcaac7",
      "d1f3f021036c4ab49cea549ed29dffbe",
      "74dcc9b0ebb345a489b966e9934a6fc7",
      "0b5429d5ff904c61ae66322c2be6db3a",
      "281c25916f224b1094aa8dd762e507c1",
      "1832aad9dfcd43c38a0f03a10dac8cc6",
      "4a2ca59010ad4a288e776c4caee4edbf",
      "d12fa669d3064d6ab25093d7871a1e9e",
      "757809bd17494082ac490cc243879072",
      "c332da42b8a64bb39acfc58c7361c2d3",
      "608220ea606a4bf2827162db455270f8",
      "25a227e0cc0f441ab3397ec89f9ce41a",
      "9ae45f1242344cc4af6002363159095a",
      "ebefeeccf1ff4784a54f22e10a7d1bf6",
      "fe4e1a2530e34243bbf208ab7569465a",
      "0a82246dd4064b8a94600b40a7b8a498",
      "cc874a0bf5f346caab947e1c0e06effb",
      "85209c9068744cb286b725140b4d09d9",
      "29b772b4866143f488789a9ac6d68476",
      "9dd606100d224785b5b605d0ff5fc444",
      "8f45b41a333143668bafd512d927f1cd",
      "5434d4d151a1434e86ad8ea68545d459",
      "bda56c3282bd411599393b4b056040a0",
      "93831e3a18e84854861954a095aed5b3",
      "822fbd427a20438e88c6cff9c172bb4d",
      "6d89bb9a156e40c19d0bb0ade09a647b",
      "fb126d2dfc82427e895b25b598850787",
      "4e47be9e51db44eeb2810f636349eb7a",
      "b3a1afc30bf0414c92b89cb920807ba4",
      "c5419431efff4eb5b3047527c5bbbb21",
      "919e6cd207424c63b04d814cd4d9b75b",
      "11bce20b1b8c4ff8ae4cc5c0e525920c",
      "f69684fba6b74901a60e2d897b09ac91",
      "900bf87259eb4ef89050a5f176974893",
      "a5770e0a8f8f48528b3a52558938ec81",
      "d16378ba364f45448a70abd065b5740a",
      "03e454e47c5c4f0bb0f29713aff36dd1",
      "af51a6c0e443441fbb83e7370705ccf0",
      "21eb20a0f17a42a2accb225b4c12e69e",
      "590021b73b9447ac80afd9248323c04d",
      "e652d553dfbc4bc4b41bec8268d4d3fd",
      "07112ad361084b1eb6dd80544680cebf",
      "ea857f6b40f6494e970c64c75423ba22",
      "1bc5df7fa51642698e10ed3bbbde407f",
      "6a43092b4e3e41f2bf28047e99f394f7",
      "fbd22521f3a44f5f865cb0fcdbd688f9",
      "5d3a0f4c2af54d3bb72849d5a459d736",
      "2c7f65ceed8044508905770619978d71",
      "e8ccfcdb900a495fb934ea7a4cefcff2",
      "8ccfa52fed204e6181530ad6ca03642c",
      "96908e82176a42d6af7a218ef0b9e7ee",
      "c8fa53b090934c0e835a3874abf96df7",
      "a70851a48d4140e6a06b02d63958e107",
      "825d1df44a354b00ba3e0b241d916c13",
      "72573a1e823547d9be1612c82b515093",
      "8915180e147b48f2bb4f2b2ce3165bf3",
      "f7641f9730864a29b0c0526041d1d261",
      "f92eca4b851e49a9830b37dc3742ed94",
      "4821ae0b45b34c85941e29f932050230",
      "135fd478c2e1461b9430d05fbb8aafe8",
      "5bdf5cced56048c49bfaed41a80eba9f",
      "89d95df47c464e2e9fe81bd41110527f",
      "c29e57955da646c382eec79280681a14",
      "3c4533d2716b4195a21cf890480a0eb2",
      "719bfe43689348508d1b84872038dabc",
      "ac364b4b9aaf48039da7c5b6fb312c1c",
      "06105b3f8c284f42a80497dba2c494e6",
      "fb5ba82eb068433a880a5cd3aa1746b1",
      "6f89290d95ed48a582176a40602bb732",
      "30490b54007740b78ab0bc2cecc0703b"
     ]
    },
    "executionInfo": {
     "elapsed": 512861,
     "status": "ok",
     "timestamp": 1741513477535,
     "user": {
      "displayName": "Giulio Leonardi",
      "userId": "03016945513466616914"
     },
     "user_tz": -60
    },
    "id": "lm8mZoDuHkqp",
    "outputId": "417eb059-8575-4a51-d79e-0bfee2eb08d0"
   },
   "outputs": [
    {
     "name": "stderr",
     "output_type": "stream",
     "text": [
      "INFO:pytorch_lightning.utilities.rank_zero:GPU available: True (cuda), used: True\n",
      "INFO:pytorch_lightning.utilities.rank_zero:TPU available: False, using: 0 TPU cores\n",
      "INFO:pytorch_lightning.utilities.rank_zero:HPU available: False, using: 0 HPUs\n",
      "INFO: LOCAL_RANK: 0 - CUDA_VISIBLE_DEVICES: [0]\n",
      "INFO:lightning.pytorch.accelerators.cuda:LOCAL_RANK: 0 - CUDA_VISIBLE_DEVICES: [0]\n",
      "INFO: \n",
      "  | Name | Type | Params | Mode \n",
      "--------------------------------------\n",
      "0 | net  | Unet | 31.0 M | train\n",
      "--------------------------------------\n",
      "31.0 M    Trainable params\n",
      "0         Non-trainable params\n",
      "31.0 M    Total params\n",
      "124.174   Total estimated model params size (MB)\n",
      "54        Modules in train mode\n",
      "0         Modules in eval mode\n",
      "INFO:lightning.pytorch.callbacks.model_summary:\n",
      "  | Name | Type | Params | Mode \n",
      "--------------------------------------\n",
      "0 | net  | Unet | 31.0 M | train\n",
      "--------------------------------------\n",
      "31.0 M    Trainable params\n",
      "0         Non-trainable params\n",
      "31.0 M    Total params\n",
      "124.174   Total estimated model params size (MB)\n",
      "54        Modules in train mode\n",
      "0         Modules in eval mode\n"
     ]
    },
    {
     "data": {
      "application/vnd.jupyter.widget-view+json": {
       "model_id": "d2cd8e0727174ae4872948dbfc4b10b7",
       "version_major": 2,
       "version_minor": 0
      },
      "text/plain": [
       "Sanity Checking: |          | 0/? [00:00<?, ?it/s]"
      ]
     },
     "metadata": {},
     "output_type": "display_data"
    },
    {
     "data": {
      "application/vnd.jupyter.widget-view+json": {
       "model_id": "4f5df48b69504012b6f9c819adfc9141",
       "version_major": 2,
       "version_minor": 0
      },
      "text/plain": [
       "Training: |          | 0/? [00:00<?, ?it/s]"
      ]
     },
     "metadata": {},
     "output_type": "display_data"
    },
    {
     "data": {
      "application/vnd.jupyter.widget-view+json": {
       "model_id": "eb6fb1f312614a66bd0ed2b1dee4db05",
       "version_major": 2,
       "version_minor": 0
      },
      "text/plain": [
       "Validation: |          | 0/? [00:00<?, ?it/s]"
      ]
     },
     "metadata": {},
     "output_type": "display_data"
    },
    {
     "data": {
      "application/vnd.jupyter.widget-view+json": {
       "model_id": "a8bc099b9efc41f4a0883725456d737b",
       "version_major": 2,
       "version_minor": 0
      },
      "text/plain": [
       "Validation: |          | 0/? [00:00<?, ?it/s]"
      ]
     },
     "metadata": {},
     "output_type": "display_data"
    },
    {
     "data": {
      "application/vnd.jupyter.widget-view+json": {
       "model_id": "97de48be4fbb4817b3ffea220456a284",
       "version_major": 2,
       "version_minor": 0
      },
      "text/plain": [
       "Validation: |          | 0/? [00:00<?, ?it/s]"
      ]
     },
     "metadata": {},
     "output_type": "display_data"
    },
    {
     "data": {
      "application/vnd.jupyter.widget-view+json": {
       "model_id": "382b781663c64670b59344a752c5a055",
       "version_major": 2,
       "version_minor": 0
      },
      "text/plain": [
       "Validation: |          | 0/? [00:00<?, ?it/s]"
      ]
     },
     "metadata": {},
     "output_type": "display_data"
    },
    {
     "data": {
      "application/vnd.jupyter.widget-view+json": {
       "model_id": "281c25916f224b1094aa8dd762e507c1",
       "version_major": 2,
       "version_minor": 0
      },
      "text/plain": [
       "Validation: |          | 0/? [00:00<?, ?it/s]"
      ]
     },
     "metadata": {},
     "output_type": "display_data"
    },
    {
     "data": {
      "application/vnd.jupyter.widget-view+json": {
       "model_id": "0a82246dd4064b8a94600b40a7b8a498",
       "version_major": 2,
       "version_minor": 0
      },
      "text/plain": [
       "Validation: |          | 0/? [00:00<?, ?it/s]"
      ]
     },
     "metadata": {},
     "output_type": "display_data"
    },
    {
     "data": {
      "application/vnd.jupyter.widget-view+json": {
       "model_id": "fb126d2dfc82427e895b25b598850787",
       "version_major": 2,
       "version_minor": 0
      },
      "text/plain": [
       "Validation: |          | 0/? [00:00<?, ?it/s]"
      ]
     },
     "metadata": {},
     "output_type": "display_data"
    },
    {
     "data": {
      "application/vnd.jupyter.widget-view+json": {
       "model_id": "af51a6c0e443441fbb83e7370705ccf0",
       "version_major": 2,
       "version_minor": 0
      },
      "text/plain": [
       "Validation: |          | 0/? [00:00<?, ?it/s]"
      ]
     },
     "metadata": {},
     "output_type": "display_data"
    },
    {
     "data": {
      "application/vnd.jupyter.widget-view+json": {
       "model_id": "e8ccfcdb900a495fb934ea7a4cefcff2",
       "version_major": 2,
       "version_minor": 0
      },
      "text/plain": [
       "Validation: |          | 0/? [00:00<?, ?it/s]"
      ]
     },
     "metadata": {},
     "output_type": "display_data"
    },
    {
     "data": {
      "application/vnd.jupyter.widget-view+json": {
       "model_id": "135fd478c2e1461b9430d05fbb8aafe8",
       "version_major": 2,
       "version_minor": 0
      },
      "text/plain": [
       "Validation: |          | 0/? [00:00<?, ?it/s]"
      ]
     },
     "metadata": {},
     "output_type": "display_data"
    },
    {
     "name": "stderr",
     "output_type": "stream",
     "text": [
      "INFO:pytorch_lightning.utilities.rank_zero:`Trainer.fit` stopped: `max_epochs=10` reached.\n"
     ]
    }
   ],
   "source": [
    "model = LitUnet()\n",
    "csv_logger = CSVLogger(\"logs\", name=\"unet\")\n",
    "trainer = L.Trainer(max_epochs=10, log_every_n_steps=10, logger=csv_logger, enable_checkpointing=False)\n",
    "trainer.fit(model=model, train_dataloaders=train_dataloader, val_dataloaders=val_dataloader)"
   ]
  },
  {
   "cell_type": "code",
   "execution_count": 47,
   "metadata": {
    "executionInfo": {
     "elapsed": 2839,
     "status": "ok",
     "timestamp": 1741513684766,
     "user": {
      "displayName": "Giulio Leonardi",
      "userId": "03016945513466616914"
     },
     "user_tz": -60
    },
    "id": "hu92ySJES1kr"
   },
   "outputs": [],
   "source": [
    "trainer.save_checkpoint(\"/content/drive/MyDrive/unet_segmentation_project/trained_unet.ckpt\")"
   ]
  },
  {
   "cell_type": "code",
   "execution_count": 48,
   "metadata": {
    "colab": {
     "base_uri": "https://localhost:8080/",
     "height": 248,
     "referenced_widgets": [
      "d68237636f3445f38d423dab942c2f00",
      "6d62305c7ec242b9893f17af826fcb69",
      "d1a34815dd5a40d08d2ff655b8100689",
      "1c0e4f123f274bb8877a14a684391c90",
      "89159481b09748d29a84fc2781361cc6",
      "c71b070a038b46b8a32f1a399464c1cd",
      "9ae3f947ebb644dca2910870630f2189",
      "bff9d86a20f7498789a782c45e038cf7",
      "c0b0dd49903244acad59d43c05d1d0f6",
      "aca445f1eaf14667b9b11bbf04d0b1e5",
      "832c10a4aac045d68a5146d2cd4d19a2"
     ]
    },
    "executionInfo": {
     "elapsed": 299063,
     "status": "ok",
     "timestamp": 1741514045404,
     "user": {
      "displayName": "Giulio Leonardi",
      "userId": "03016945513466616914"
     },
     "user_tz": -60
    },
    "id": "ToNe1oduTiOU",
    "outputId": "9967aadd-a0ba-4392-87fa-d4c9c0e22e4d"
   },
   "outputs": [
    {
     "name": "stderr",
     "output_type": "stream",
     "text": [
      "INFO: LOCAL_RANK: 0 - CUDA_VISIBLE_DEVICES: [0]\n",
      "INFO:lightning.pytorch.accelerators.cuda:LOCAL_RANK: 0 - CUDA_VISIBLE_DEVICES: [0]\n"
     ]
    },
    {
     "data": {
      "application/vnd.jupyter.widget-view+json": {
       "model_id": "d68237636f3445f38d423dab942c2f00",
       "version_major": 2,
       "version_minor": 0
      },
      "text/plain": [
       "Testing: |          | 0/? [00:00<?, ?it/s]"
      ]
     },
     "metadata": {},
     "output_type": "display_data"
    },
    {
     "data": {
      "text/html": [
       "<pre style=\"white-space:pre;overflow-x:auto;line-height:normal;font-family:Menlo,'DejaVu Sans Mono',consolas,'Courier New',monospace\">┏━━━━━━━━━━━━━━━━━━━━━━━━━━━┳━━━━━━━━━━━━━━━━━━━━━━━━━━━┓\n",
       "┃<span style=\"font-weight: bold\">        Test metric        </span>┃<span style=\"font-weight: bold\">       DataLoader 0        </span>┃\n",
       "┡━━━━━━━━━━━━━━━━━━━━━━━━━━━╇━━━━━━━━━━━━━━━━━━━━━━━━━━━┩\n",
       "│<span style=\"color: #008080; text-decoration-color: #008080\">       test_accuracy       </span>│<span style=\"color: #800080; text-decoration-color: #800080\">     0.971939742565155     </span>│\n",
       "│<span style=\"color: #008080; text-decoration-color: #008080\">          test_f1          </span>│<span style=\"color: #800080; text-decoration-color: #800080\">    0.7288743257522583     </span>│\n",
       "│<span style=\"color: #008080; text-decoration-color: #008080\">         test_loss         </span>│<span style=\"color: #800080; text-decoration-color: #800080\">    0.06227423995733261    </span>│\n",
       "└───────────────────────────┴───────────────────────────┘\n",
       "</pre>\n"
      ],
      "text/plain": [
       "┏━━━━━━━━━━━━━━━━━━━━━━━━━━━┳━━━━━━━━━━━━━━━━━━━━━━━━━━━┓\n",
       "┃\u001b[1m \u001b[0m\u001b[1m       Test metric       \u001b[0m\u001b[1m \u001b[0m┃\u001b[1m \u001b[0m\u001b[1m      DataLoader 0       \u001b[0m\u001b[1m \u001b[0m┃\n",
       "┡━━━━━━━━━━━━━━━━━━━━━━━━━━━╇━━━━━━━━━━━━━━━━━━━━━━━━━━━┩\n",
       "│\u001b[36m \u001b[0m\u001b[36m      test_accuracy      \u001b[0m\u001b[36m \u001b[0m│\u001b[35m \u001b[0m\u001b[35m    0.971939742565155    \u001b[0m\u001b[35m \u001b[0m│\n",
       "│\u001b[36m \u001b[0m\u001b[36m         test_f1         \u001b[0m\u001b[36m \u001b[0m│\u001b[35m \u001b[0m\u001b[35m   0.7288743257522583    \u001b[0m\u001b[35m \u001b[0m│\n",
       "│\u001b[36m \u001b[0m\u001b[36m        test_loss        \u001b[0m\u001b[36m \u001b[0m│\u001b[35m \u001b[0m\u001b[35m   0.06227423995733261   \u001b[0m\u001b[35m \u001b[0m│\n",
       "└───────────────────────────┴───────────────────────────┘\n"
      ]
     },
     "metadata": {},
     "output_type": "display_data"
    },
    {
     "data": {
      "text/plain": [
       "[{'test_loss': 0.06227423995733261,\n",
       "  'test_accuracy': 0.971939742565155,\n",
       "  'test_f1': 0.7288743257522583}]"
      ]
     },
     "execution_count": 48,
     "metadata": {},
     "output_type": "execute_result"
    }
   ],
   "source": [
    "trainer.test(model, test_dataloader)"
   ]
  },
  {
   "cell_type": "code",
   "execution_count": 63,
   "metadata": {
    "executionInfo": {
     "elapsed": 1969,
     "status": "ok",
     "timestamp": 1741514374816,
     "user": {
      "displayName": "Giulio Leonardi",
      "userId": "03016945513466616914"
     },
     "user_tz": -60
    },
    "id": "F9kI2255Hkqp"
   },
   "outputs": [],
   "source": [
    "model.eval()\n",
    "a_pred = (model.net.forward(test[0][0].unsqueeze(0)) > 0.5).detach()\n",
    "a = test[0][1].permute(1,2,0)\n",
    "a_pred = torchvision.transforms.functional.resize(a_pred, (a.shape[0], a.shape[1]))"
   ]
  },
  {
   "cell_type": "code",
   "execution_count": 64,
   "metadata": {
    "colab": {
     "base_uri": "https://localhost:8080/"
    },
    "executionInfo": {
     "elapsed": 18,
     "status": "ok",
     "timestamp": 1741514376069,
     "user": {
      "displayName": "Giulio Leonardi",
      "userId": "03016945513466616914"
     },
     "user_tz": -60
    },
    "id": "mh_2J9Q3V5oE",
    "outputId": "21015bb0-a6ba-49aa-f402-94bf6a8e1ddc"
   },
   "outputs": [
    {
     "data": {
      "text/plain": [
       "(torch.Size([400, 400, 1]), torch.Size([1, 1, 400, 400]))"
      ]
     },
     "execution_count": 64,
     "metadata": {},
     "output_type": "execute_result"
    }
   ],
   "source": [
    "a.shape, a_pred.shape"
   ]
  },
  {
   "cell_type": "code",
   "execution_count": 65,
   "metadata": {
    "colab": {
     "base_uri": "https://localhost:8080/",
     "height": 452
    },
    "executionInfo": {
     "elapsed": 347,
     "status": "ok",
     "timestamp": 1741514379668,
     "user": {
      "displayName": "Giulio Leonardi",
      "userId": "03016945513466616914"
     },
     "user_tz": -60
    },
    "id": "PGQxAIZCHkqq",
    "outputId": "bed3f2fa-1ce7-4c84-885a-0700c4da3413"
   },
   "outputs": [
    {
     "data": {
      "text/plain": [
       "<matplotlib.image.AxesImage at 0x7c98724f7690>"
      ]
     },
     "execution_count": 65,
     "metadata": {},
     "output_type": "execute_result"
    },
    {
     "data": {
      "image/png": "[encoded data removed]",
      "text/plain": [
       "<Figure size 640x480 with 1 Axes>"
      ]
     },
     "metadata": {},
     "output_type": "display_data"
    }
   ],
   "source": [
    "plt.imshow(a)"
   ]
  },
  {
   "cell_type": "code",
   "execution_count": 66,
   "metadata": {
    "colab": {
     "base_uri": "https://localhost:8080/",
     "height": 452
    },
    "executionInfo": {
     "elapsed": 336,
     "status": "ok",
     "timestamp": 1741514380049,
     "user": {
      "displayName": "Giulio Leonardi",
      "userId": "03016945513466616914"
     },
     "user_tz": -60
    },
    "id": "-x6E6-TeHkqq",
    "outputId": "0cf048b4-fc6f-49e8-d1d4-028654897cc3"
   },
   "outputs": [
    {
     "data": {
      "text/plain": [
       "<matplotlib.image.AxesImage at 0x7c9872562210>"
      ]
     },
     "execution_count": 66,
     "metadata": {},
     "output_type": "execute_result"
    },
    {
     "data": {
      "image/png": "[encoded data removed]",
      "text/plain": [
       "<Figure size 640x480 with 1 Axes>"
      ]
     },
     "metadata": {},
     "output_type": "display_data"
    }
   ],
   "source": [
    "\n",
    "plt.imshow(a_pred[0].permute(1,2,0))"
   ]
  },
  {
   "cell_type": "code",
   "execution_count": null,
   "metadata": {
    "id": "2WHx22MRHkqq"
   },
   "outputs": [],
   "source": []
  }
 ],
 "metadata": {
  "accelerator": "GPU",
  "colab": {
   "gpuType": "T4",
   "provenance": []
  },
  "kernelspec": {
   "display_name": "DEEPL",
   "language": "python",
   "name": "python3"
  },
  "language_info": {
   "codemirror_mode": {
    "name": "ipython",
    "version": 3
   },
   "file_extension": ".py",
   "mimetype": "text/x-python",
   "name": "python",
   "nbconvert_exporter": "python",
   "pygments_lexer": "ipython3",
   "version": "3.10.13"
  }
 },
 "nbformat": 4,
 "nbformat_minor": 0
}
